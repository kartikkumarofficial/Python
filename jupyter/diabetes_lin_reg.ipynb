{
 "cells": [
  {
   "cell_type": "code",
   "execution_count": null,
   "id": "d9d78f0c-6cfb-4465-8d9b-51342c2ca5a5",
   "metadata": {},
   "outputs": [],
   "source": [
    "import numpy as np\n",
    "import pandas as pd\n",
    "import matplotlib.pyplot as plt\n",
    "%matplotlib inline\n",
    "\n",
    "# scikit-learn libraries\n",
    "from sklearn.model_selection import train_test_split\n",
    "from sklearn.linear_model import LinearRegression\n",
    "from sklearn.metrics import mean_squared_error,r2_score\n",
    "\n",
    "# for saving/loading model\n",
    "import joblib"
   ]
  },
  {
   "cell_type": "code",
   "execution_count": null,
   "id": "4bbe84f8-5338-4809-8006-a3a96ac3a902",
   "metadata": {},
   "outputs": [],
   "source": [
    "# loading dataset\n",
    "from sklearn.datasets import load_diabetes\n",
    "\n",
    "data = load_diabetes()"
   ]
  },
  {
   "cell_type": "code",
   "execution_count": null,
   "id": "6a1c9268-7c6d-4f59-b393-4932bfb05398",
   "metadata": {},
   "outputs": [],
   "source": [
    "# features and target / independent and dependent variables\n",
    "X = pd.DataFrame(data.data,columns=data.feature_names)\n",
    "y=pd.Series(data.target , name = 'target' )\n",
    "y"
   ]
  },
  {
   "cell_type": "code",
   "execution_count": null,
   "id": "ba111afc-ac9a-4865-a2f7-bb73e7f6bf7d",
   "metadata": {},
   "outputs": [],
   "source": [
    "# preprocess data \n",
    "# 1 - check for null values\n",
    "# 2 - check for dtype\n",
    "# 3- handle categorical values :\n",
    "# One-hot encoding for nominal categories (OneHotEncoder)\n",
    "# Ordinal encoding for ordered categories (map to numbers)\n",
    "# 4- detect outliers\n",
    "# 5- scale features(linear regression doesn't req scaling to work)\n",
    "# 6- feature engineering\n",
    "# 7 - avoid data leakage - transformations must be fit only on training data"
   ]
  },
  {
   "cell_type": "code",
   "execution_count": null,
   "id": "4eeed765-6593-4b22-add6-70d33ab391a6",
   "metadata": {},
   "outputs": [],
   "source": [
    "# splitting datasets into train and test \n",
    "X_train , X_test,y_train,y_test=train_test_split(X,y,test_size=0.2,random_state=42)"
   ]
  },
  {
   "cell_type": "code",
   "execution_count": null,
   "id": "e6d782d3-83b6-49bc-a671-0861ae1a921d",
   "metadata": {},
   "outputs": [],
   "source": [
    "# training the model\n",
    "model=LinearRegression()\n",
    "model.fit(X_train,y_train)"
   ]
  },
  {
   "cell_type": "code",
   "execution_count": null,
   "id": "c5a52413-e31b-4a18-b43f-de617e7c6ae7",
   "metadata": {},
   "outputs": [],
   "source": [
    "y_pred = model.predict(X_test)\n",
    "# predict() - uses trained model to predict values for test set"
   ]
  },
  {
   "cell_type": "code",
   "execution_count": null,
   "id": "441d8bc0-5f36-42f3-b2a4-1b0b6ba81c98",
   "metadata": {},
   "outputs": [],
   "source": [
    "# evaluating the model\n",
    "mse = mean_squared_error(y_test,y_pred)\n",
    "r2 = r2_score(y_test,y_pred)\n",
    "\n",
    "print(\"MSE=\",mse)\n",
    "print(\"R sq score=\",r2)"
   ]
  },
  {
   "cell_type": "code",
   "execution_count": null,
   "id": "78e586d9-07a3-4e47-bd29-8df409f6f2c5",
   "metadata": {},
   "outputs": [],
   "source": [
    "# mse = lower = better model\n",
    "# r sq = 1 perfect fit ; 0 poor fit , <0 worse than guessing avg"
   ]
  },
  {
   "cell_type": "code",
   "execution_count": null,
   "id": "e85e97b7-d4f9-4a37-b7ec-3b0016338aa4",
   "metadata": {},
   "outputs": [],
   "source": [
    "# saving the model\n",
    "joblib.dump(model,\"linear_regression_model.pkl\")"
   ]
  },
  {
   "cell_type": "code",
   "execution_count": null,
   "id": "f8120ef8-bca0-4007-bcf6-726f8e34476f",
   "metadata": {},
   "outputs": [],
   "source": [
    "# loading the model\n",
    "loaded_model=joblib.load(\"linear_regression_model.pkl\")"
   ]
  },
  {
   "cell_type": "code",
   "execution_count": null,
   "id": "4b4b992e-382b-41e6-8529-0527470d5bba",
   "metadata": {},
   "outputs": [],
   "source": [
    "y_loaded_pred=loaded_model.predict(X_test)"
   ]
  },
  {
   "cell_type": "code",
   "execution_count": null,
   "id": "5569e6ab-24a4-4c90-8e00-2678e3a44663",
   "metadata": {},
   "outputs": [],
   "source": [
    "plt.scatter(y_test,y_pred,color=\"blue\")\n",
    "plt.xlabel(\"Actual Values\")\n",
    "plt.xlabel(\"Predicted Values\")"
   ]
  }
 ],
 "metadata": {
  "kernelspec": {
   "display_name": "Python 3 (ipykernel)",
   "language": "python",
   "name": "python3"
  },
  "language_info": {
   "codemirror_mode": {
    "name": "ipython",
    "version": 3
   },
   "file_extension": ".py",
   "mimetype": "text/x-python",
   "name": "python",
   "nbconvert_exporter": "python",
   "pygments_lexer": "ipython3",
   "version": "3.12.6"
  }
 },
 "nbformat": 4,
 "nbformat_minor": 5
}
